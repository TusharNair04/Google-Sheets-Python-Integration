{
 "cells": [
  {
   "cell_type": "code",
   "execution_count": 10,
   "metadata": {},
   "source": [
    "import os\n",
    "import pandas as pd\n",
    "from google.auth.transport.requests import Request\n",
    "from google.oauth2.credentials import Credentials\n",
    "from google_auth_oauthlib.flow import InstalledAppFlow\n",
    "from googleapiclient.discovery import build\n",
    "from googleapiclient.errors import HttpError\n",
    "\n",
    "scopes = [\"https://www.googleapis.com/auth/spreadsheets\"]\n",
    "spreadsheet_id = \"YOUR_SPREADSHEET_ID\"\n",
    "credential_path = r\"path_to_OAUTH_JSON_FILE\"\n",
    "\n",
    "credentials = None\n",
    "if os.path.exists(\"token.json\"):\n",
    "    credentials = Credentials.from_authorized_user_file(\"token.json\", scopes)\n",
    "if not credentials or not credentials.valid:\n",
    "    if credentials and credentials.expired and credentials.refresh_token:\n",
    "        credentials.refresh(Request())\n",
    "    else:\n",
    "        flow = InstalledAppFlow.from_client_secrets_file(credential_path, scopes)\n",
    "        credentials = flow.run_local_server(port=0)\n",
    "    with open(\"token.json\", \"w\") as token:\n",
    "        token.write(credentials.to_json())\n",
    "\n",
    "\n",
    "service = build(\"sheets\", \"v4\", credentials=credentials)\n",
    "result = service.spreadsheets().values().get(spreadsheetId=spreadsheet_id, range=\"Sheet1!A:J\").execute()\n",
    "values = result.get(\"values\", [])\n",
    "\n",
    "# Create a DataFrame from the values\n",
    "df = pd.DataFrame(values)\n",
    "df.columns = df.iloc[0]\n",
    "df = df[1:]\n"
   ]
  }
 ],
 "metadata": {
  "kernelspec": {
   "display_name": "gsheetint_env",
   "language": "python",
   "name": "python3"
  },
  "language_info": {
   "codemirror_mode": {
    "name": "ipython",
    "version": 3
   },
   "file_extension": ".py",
   "mimetype": "text/x-python",
   "name": "python",
   "nbconvert_exporter": "python",
   "pygments_lexer": "ipython3",
   "version": "3.12.0"
  }
 },
 "nbformat": 4,
 "nbformat_minor": 2
}
